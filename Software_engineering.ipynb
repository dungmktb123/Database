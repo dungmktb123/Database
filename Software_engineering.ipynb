{
 "cells": [
  {
   "cell_type": "code",
   "execution_count": 2,
   "id": "ffc9fdac",
   "metadata": {},
   "outputs": [
    {
     "data": {
      "image/png": "[encoded data removed]",
      "text/plain": [
       "<Figure size 640x480 with 1 Axes>"
      ]
     },
     "metadata": {},
     "output_type": "display_data"
    },
    {
     "data": {
      "text/plain": [
       "<matplotlib.image.AxesImage at 0x292bd5ef0d0>"
      ]
     },
     "execution_count": 2,
     "metadata": {},
     "output_type": "execute_result"
    }
   ],
   "source": [
    "import ita\n",
    "\n",
    "def count_neighbor(data, i, j):\n",
    "    count = 0\n",
    "    for dx in range(-1, 2):\n",
    "        for dy in range(-1, 2):\n",
    "            if dx == 0 and dy == 0:\n",
    "                continue\n",
    "            x = i + dx\n",
    "            y = j + dy\n",
    "            if 0 <= x < len(data) and 0 <= y < len(data[0]) and data[x][y] == 1:\n",
    "                count += 1\n",
    "    return count\n",
    "\n",
    "def lifegame_rule(cur, neighbor):\n",
    "    if cur == 1 and (neighbor < 2 or neighbor > 3):\n",
    "        return 0\n",
    "    elif cur == 0 and neighbor == 3:\n",
    "        return 1\n",
    "    else:\n",
    "        return cur\n",
    "\n",
    "def lifegame_step(data):\n",
    "    new_data = ita.array.make2d(len(data), len(data[0]))\n",
    "    for i in range(len(data)):\n",
    "        for j in range(len(data[0])):\n",
    "            neighbor_count = count_neighbor(data, i, j)\n",
    "            new_data[i][j] = lifegame_rule(data[i][j], neighbor_count)\n",
    "    return new_data\n",
    "\n",
    "def lifegame(data, steps):\n",
    "    results = ita.array.make1d(steps)\n",
    "    current_data = data\n",
    "    for step in range(steps):\n",
    "        results[step] = current_data\n",
    "        current_data = lifegame_step(current_data)\n",
    "    return results\n",
    "\n",
    "# Visualization\n",
    "def draw_circle(r, center_y, center_x, color, image):\n",
    "    for i in range(len(image)):\n",
    "        for j in range(len(image[0])):\n",
    "            if distance(i, j, center_y, center_x) < r:\n",
    "                image[i][j] = color\n",
    "                \n",
    "def distance(x1, y1, x2, y2):\n",
    "    return ((x1-x2) ** 2 + (y1-y2) ** 2) ** 0.5\n",
    "\n",
    "# Example usage\n",
    "def main():\n",
    "    # Glider pattern\n",
    "    glider = ita.lifegame_glider()\n",
    "    glider_animation = lifegame(glider, 10)\n",
    "    ita.plot.animation_show(glider_animation)\n",
    "\n",
    "    # Acorn pattern\n",
    "    acorn = ita.lifegame_acorn()\n",
    "    acorn_animation = lifegame(acorn, 10)\n",
    "    ita.plot.animation_show(acorn_animation)\n",
    "\n",
    "# Drawing a circle\n",
    "image = ita.array.make3d(200, 150, 3)\n",
    "draw_circle(20, 50, 70, [1, 1, 0], image)\n",
    "ita.plot.image_show(image)\n",
    "\n",
    "\n"
   ]
  },
  {
   "cell_type": "code",
   "execution_count": null,
   "id": "badbde66",
   "metadata": {},
   "outputs": [],
   "source": []
  }
 ],
 "metadata": {
  "kernelspec": {
   "display_name": "Python 3 (ipykernel)",
   "language": "python",
   "name": "python3"
  },
  "language_info": {
   "codemirror_mode": {
    "name": "ipython",
    "version": 3
   },
   "file_extension": ".py",
   "mimetype": "text/x-python",
   "name": "python",
   "nbconvert_exporter": "python",
   "pygments_lexer": "ipython3",
   "version": "3.11.7"
  }
 },
 "nbformat": 4,
 "nbformat_minor": 5
}
